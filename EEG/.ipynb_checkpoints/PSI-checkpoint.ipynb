{
 "cells": [
  {
   "cell_type": "markdown",
   "metadata": {},
   "source": [
    "### Publication - Comparative Analysis of Non-linear Behavior with Power Spectral Intensity Response Between Normal and Epileptic EEG Signals\n",
    "\n",
    "PyEEG - Python module implementation for feature extraction on EEG Datasets"
   ]
  },
  {
   "cell_type": "code",
   "execution_count": 1,
   "metadata": {},
   "outputs": [],
   "source": [
    "import pyeeg\n",
    "import os\n",
    "import statistics\n",
    "import pandas as pd\n",
    "import numpy as np\n",
    "import matplotlib.pyplot as plt"
   ]
  },
  {
   "cell_type": "code",
   "execution_count": 2,
   "metadata": {},
   "outputs": [],
   "source": [
    "psi_set_A = {'alpha':[],'beta':[],'theta':[]}\n",
    "psi_set_E = {'alpha':[],'beta':[],'theta':[]}\n",
    "vector_band = [0.5,4,7,12,30,100]\n",
    "fs = 50"
   ]
  },
  {
   "cell_type": "markdown",
   "metadata": {},
   "source": [
    "### EEG Data Source - epileptologie-bonn.de/cms/upload/workgroup/lehnertz/eegdata.html\n",
    "The database contains 5 sets of EEG signals which have been named as Set-A, Set-B, Set-C, Set-D and Set-E.\n",
    "\n",
    "Each of the dataset has EEG signals. All the signals have been taken from 100 single channel. \n",
    "\n",
    "Set A was for normal healthy patient with eyes open and set B was for normal healthy patients with eyes closed. \n",
    "\n",
    "For set C and D Signals were measured in seizure-free intervals from five patients. In the set C the signals were measured from the hippocampus formation of the opposite hemisphere of the brain. For set D it was in the epileptogenic zone.\n",
    "\n",
    "The last of the total dataset, set E has signals for seizure activity and these signals exhibit ictal activity."
   ]
  },
  {
   "cell_type": "code",
   "execution_count": 3,
   "metadata": {},
   "outputs": [],
   "source": [
    "for file in os.listdir('./Datasets/Z'):\n",
    "    temp = open('./Datasets/Z/'+file,'r').readlines()\n",
    "    data = [float(k) for k in temp]\n",
    "    PSI = pyeeg.bin_power(data,vector_band,fs)\n",
    "    psi_set_A['alpha'].append(PSI[0][2])\n",
    "    psi_set_A['beta'].append(PSI[0][3])\n",
    "    psi_set_A['theta'].append(PSI[0][1])"
   ]
  },
  {
   "cell_type": "code",
   "execution_count": 4,
   "metadata": {},
   "outputs": [],
   "source": [
    "for k,v in psi_set_A.items():psi_set_A[k] = [float(i)/max(v) for i in v]\n",
    "alpha_set_A = statistics.mean(psi_set_A['alpha'])\n",
    "beta_set_A = statistics.mean(psi_set_A['beta'])\n",
    "theta_set_A = statistics.mean(psi_set_A['theta'])"
   ]
  },
  {
   "cell_type": "code",
   "execution_count": 5,
   "metadata": {},
   "outputs": [],
   "source": [
    "for file in os.listdir('./Datasets/S'):\n",
    "    temp = open('./Datasets/S/'+file,'r').readlines()\n",
    "    data = [float(k) for k in temp]\n",
    "    PSI = pyeeg.bin_power(data,vector_band,fs)\n",
    "    psi_set_E['alpha'].append(PSI[0][2])\n",
    "    psi_set_E['beta'].append(PSI[0][3])\n",
    "    psi_set_E['theta'].append(PSI[0][1])"
   ]
  },
  {
   "cell_type": "code",
   "execution_count": 6,
   "metadata": {},
   "outputs": [],
   "source": [
    "for k,v in psi_set_E.items():psi_set_E[k] = [float(i)/max(v) for i in v]\n",
    "alpha_set_E = statistics.mean(psi_set_E['alpha'])\n",
    "beta_set_E = statistics.mean(psi_set_E['beta'])\n",
    "theta_set_E = statistics.mean(psi_set_E['theta'])"
   ]
  },
  {
   "cell_type": "code",
   "execution_count": 7,
   "metadata": {
    "scrolled": true
   },
   "outputs": [
    {
     "data": {
      "image/png": "[encoded data removed]",
      "text/plain": [
       "<Figure size 432x288 with 1 Axes>"
      ]
     },
     "metadata": {},
     "output_type": "display_data"
    }
   ],
   "source": [
    "N = 3\n",
    "set_A = (alpha_set_A, beta_set_A, theta_set_A)\n",
    "set_E = (alpha_set_E, beta_set_E, theta_set_E)\n",
    "ind = np.arange(N) \n",
    "width = 0.35\n",
    "plt.style.use('ggplot')\n",
    "plt.bar(ind + width, set_E, width,label='Set E')\n",
    "plt.bar(ind, set_A, width, label='Set A')\n",
    "plt.ylabel('Average PSI Value')\n",
    "plt.title('Comparison between the values of PSI of Alpha,Beta and Theta for Normal i.e. SET A and Epileptic patient i.e. SET E')\n",
    "plt.xticks(ind + width / 2, ('alpha', 'beta', 'theta'))\n",
    "plt.legend(loc='best')\n",
    "plt.savefig('psi.png')\n",
    "plt.show()"
   ]
  },
  {
   "cell_type": "markdown",
   "metadata": {},
   "source": [
    "### Conclusion\n",
    "Thus comparison of PSI values for Alpha band, Beta band and Theta band for both the datasets has been performed by plotting bar graph. \n",
    "\n",
    "From this the variation of PSI values between normal and epileptic patients’ EEG signals can be easily observed. \n",
    "\n",
    "The value of PSI is higher in Alpha and Theta region for normal patient than epilepsy patients. \n",
    "\n",
    "But for the Beta region the value for normal patient is lower than that of epileptic patients."
   ]
  }
 ],
 "metadata": {
  "kernelspec": {
   "display_name": "Python 3",
   "language": "python",
   "name": "python3"
  },
  "language_info": {
   "codemirror_mode": {
    "name": "ipython",
    "version": 3
   },
   "file_extension": ".py",
   "mimetype": "text/x-python",
   "name": "python",
   "nbconvert_exporter": "python",
   "pygments_lexer": "ipython3",
   "version": "3.6.7"
  }
 },
 "nbformat": 4,
 "nbformat_minor": 2
}
